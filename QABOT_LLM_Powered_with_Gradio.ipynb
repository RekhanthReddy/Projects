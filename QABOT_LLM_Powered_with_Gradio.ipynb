{
 "cells": [
  {
   "cell_type": "code",
   "execution_count": 1,
   "id": "83c3e4d2",
   "metadata": {},
   "outputs": [],
   "source": [
    "import os\n",
    "import gradio as gr\n",
    "from langchain_groq import ChatGroq"
   ]
  },
  {
   "cell_type": "code",
   "execution_count": 2,
   "id": "c36ff979",
   "metadata": {},
   "outputs": [],
   "source": [
    "\n",
    "# Set necessary parameters\n",
    "parameters = {\n",
    "    \"temperature\": 0.0,\n",
    "    \"max_tokens\": 1000,\n",
    "}"
   ]
  },
  {
   "cell_type": "code",
   "execution_count": null,
   "id": "b71f1199",
   "metadata": {},
   "outputs": [],
   "source": [
    "model_name = 'llama-3.3-70b-versatile'\n",
    "\n",
    "# Retrieve the API key from the environment\n",
    "groq_api_key = \"Give your API key here\"  # Replace with your actual API key"
   ]
  },
  {
   "cell_type": "code",
   "execution_count": 6,
   "id": "c91a8765",
   "metadata": {},
   "outputs": [],
   "source": [
    "# Initialize the ChatGroq model\n",
    "groq_llm = ChatGroq(\n",
    "    groq_api_key=groq_api_key,\n",
    "    model_name=model_name,\n",
    "    temperature=parameters[\"temperature\"],\n",
    "    max_tokens=parameters[\"max_tokens\"]\n",
    ")"
   ]
  },
  {
   "cell_type": "code",
   "execution_count": 7,
   "id": "d6f34ef5",
   "metadata": {},
   "outputs": [],
   "source": [
    "# Function to generate a response from the model\n",
    "def generate_response(prompt_txt):\n",
    "    \"\"\"\n",
    "    Generates a response from the Groq LLM.\n",
    "    Args:\n",
    "        prompt_txt (str): The user's input prompt.\n",
    "    Returns:\n",
    "        str: The generated response from the LLM.\n",
    "    \"\"\"\n",
    "    if grok_api_key == \"dummy-key\":\n",
    "        return \"API key not set. Please follow the instructions to set the GROK_API_KEY environment variable.\"\n",
    "\n",
    "    try:\n",
    "        # The .invoke() method is consistent across many LangChain integrations.\n",
    "        generated_response = groq_llm.invoke(prompt_txt).content\n",
    "    except Exception as e:\n",
    "        generated_response = f\"An error occurred: {e}\"\n",
    "        print(f\"API call failed: {e}\")\n",
    "    return generated_response\n"
   ]
  },
  {
   "cell_type": "code",
   "execution_count": 8,
   "id": "685a3b78",
   "metadata": {},
   "outputs": [
    {
     "name": "stderr",
     "output_type": "stream",
     "text": [
      "/opt/anaconda3/lib/python3.12/site-packages/gradio/interface.py:415: UserWarning: The `allow_flagging` parameter in `Interface` is deprecated.Use `flagging_mode` instead.\n",
      "  warnings.warn(\n"
     ]
    }
   ],
   "source": [
    "# Create Gradio interface\n",
    "chat_application = gr.Interface(\n",
    "    fn=generate_response,\n",
    "    allow_flagging=\"never\",\n",
    "    inputs=gr.Textbox(label=\"Input\", lines=2, placeholder=\"Type your question here...\"),\n",
    "    outputs=gr.Textbox(label=\"Output\"),\n",
    "    title=\"Grok AI Chatbot with Llama\",\n",
    "    description=\"Ask any question and the chatbot will try to answer using a Llama model on Groq's platform.\"\n",
    ")"
   ]
  },
  {
   "cell_type": "code",
   "execution_count": 9,
   "id": "d6ec98a6",
   "metadata": {},
   "outputs": [
    {
     "name": "stdout",
     "output_type": "stream",
     "text": [
      "* Running on local URL:  http://127.0.0.1:7861\n",
      "\n",
      "To create a public link, set `share=True` in `launch()`.\n"
     ]
    },
    {
     "data": {
      "text/html": [
       "<div><iframe src=\"http://127.0.0.1:7861/\" width=\"100%\" height=\"500\" allow=\"autoplay; camera; microphone; clipboard-read; clipboard-write;\" frameborder=\"0\" allowfullscreen></iframe></div>"
      ],
      "text/plain": [
       "<IPython.core.display.HTML object>"
      ]
     },
     "metadata": {},
     "output_type": "display_data"
    },
    {
     "data": {
      "text/plain": []
     },
     "execution_count": 9,
     "metadata": {},
     "output_type": "execute_result"
    }
   ],
   "source": [
    "# Launch the app\n",
    "\n",
    "chat_application.launch()"
   ]
  },
  {
   "cell_type": "code",
   "execution_count": null,
   "id": "9b1af565",
   "metadata": {},
   "outputs": [],
   "source": []
  }
 ],
 "metadata": {
  "kernelspec": {
   "display_name": "base",
   "language": "python",
   "name": "python3"
  },
  "language_info": {
   "codemirror_mode": {
    "name": "ipython",
    "version": 3
   },
   "file_extension": ".py",
   "mimetype": "text/x-python",
   "name": "python",
   "nbconvert_exporter": "python",
   "pygments_lexer": "ipython3",
   "version": "3.12.7"
  }
 },
 "nbformat": 4,
 "nbformat_minor": 5
}
